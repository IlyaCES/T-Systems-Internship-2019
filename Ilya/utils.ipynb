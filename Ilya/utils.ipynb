{
 "cells": [
  {
   "cell_type": "code",
   "execution_count": 17,
   "metadata": {},
   "outputs": [],
   "source": [
    "import os\n",
    "from PIL import Image\n",
    "import numpy as np"
   ]
  },
  {
   "cell_type": "code",
   "execution_count": 126,
   "metadata": {},
   "outputs": [],
   "source": [
    "def load_data(path, controls, size_for_control=None):\n",
    "    \"\"\"Load images with label for each folder.\n",
    "    \n",
    "    Args:\n",
    "        path: path to folders with images\n",
    "        controls: list of folder names to load\n",
    "        size_for_control: number of images for each folder to load. If None then load all.\n",
    "    Returns:\n",
    "        (X, y): X - list of PIL.Image.Image, y - np.ndarray of labels(one hot encoded)\n",
    "    \"\"\"\n",
    "    \n",
    "    if size_for_control is not None and size_for_control <= 0:\n",
    "        raise ValueError('Number of images must be > 0')\n",
    "    \n",
    "    X = []\n",
    "    num_labels = []\n",
    "    for c in controls:\n",
    "        image_paths = os.listdir(path + '/' + c)[:size_for_control]\n",
    "        num_labels.append(len(image_paths))\n",
    "        for image in os.listdir(path + '/' + c)[:size_for_control]:\n",
    "            file_path = path + '/' + c + '/' + image\n",
    "            img = Image.open(file_path).convert('L')\n",
    "            X.append(img)\n",
    "        print(c, 'loaded')\n",
    "    y = np.concatenate([np.tile(row, (num_labels[row.argmax() - 1], 1)) for row in np.eye(len(controls))])\n",
    "    return X, y\n",
    "\n",
    "def load_1_img(path):\n",
    "    return Image.open(path).convert('L')\n",
    "\n",
    "def resize(X, width=100, length=150):\n",
    "    if type(X) is Image.Image:\n",
    "        return X.resize((width, length), Image.LANCZOS)\n",
    "    return [img.resize((width, length), Image.LANCZOS) for img in X]\n",
    "     \n",
    "def convert_to_ndarray(X):\n",
    "    if type(X) is Image.Image:\n",
    "        return np.asarray(X)\n",
    "    return np.asarray([np.asarray(img, dtype=np.int16) for img in X])\n",
    "\n",
    "def add_1_dim(X):\n",
    "    if type(X) is Image.Image:\n",
    "        return X.reshape(*X[0].shape, 1)\n",
    "    return X.reshape(len(X), *X[0].shape, 1)\n",
    "\n",
    "def preprocess(X):\n",
    "    return X.astype('float32') / 255"
   ]
  }
 ],
 "metadata": {
  "kernelspec": {
   "display_name": "Python 3",
   "language": "python",
   "name": "python3"
  },
  "language_info": {
   "codemirror_mode": {
    "name": "ipython",
    "version": 3
   },
   "file_extension": ".py",
   "mimetype": "text/x-python",
   "name": "python",
   "nbconvert_exporter": "python",
   "pygments_lexer": "ipython3",
   "version": "3.7.2"
  }
 },
 "nbformat": 4,
 "nbformat_minor": 2
}
