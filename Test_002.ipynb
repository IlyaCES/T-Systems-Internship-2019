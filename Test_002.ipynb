{
 "cells": [
  {
   "cell_type": "code",
   "execution_count": 1,
   "metadata": {},
   "outputs": [
    {
     "name": "stdout",
     "output_type": "stream",
     "text": [
      "2.0.0-beta1\n"
     ]
    }
   ],
   "source": [
    "from __future__ import absolute_import, division, print_function, unicode_literals\n",
    "\n",
    "# TensorFlow и tf.keras\n",
    "import tensorflow as tf\n",
    "from tensorflow import keras\n",
    "\n",
    "# Вспомогательные библиотеки\n",
    "import numpy as np\n",
    "import matplotlib.pyplot as plt\n",
    "\n",
    "import os\n",
    "import skimage\n",
    "import random\n",
    "\n",
    "print(tf.__version__)"
   ]
  },
  {
   "cell_type": "code",
   "execution_count": 2,
   "metadata": {},
   "outputs": [],
   "source": [
    "def load_data(data_directory):\n",
    "    directories = [d for d in os.listdir(data_directory) \n",
    "                   if os.path.isdir(os.path.join(data_directory, d))]\n",
    "    labels = []\n",
    "    images = []\n",
    "    for d in directories:\n",
    "        label_directory = os.path.join(data_directory, d)\n",
    "        file_names = [os.path.join(label_directory, f) \n",
    "                      for f in os.listdir(label_directory) \n",
    "                      if f.endswith(\".png\")]\n",
    "        for f in file_names:\n",
    "            images.append(skimage.data.imread(f))\n",
    "            labels.append(d)\n",
    "    return images, labels\n",
    "\n",
    "ROOT_PATH = \"/home/nikita/Desktop/English\"\n",
    "train_data_directory = os.path.join(ROOT_PATH, \"ControlsGray6k\")\n",
    "\n",
    "images, labels = load_data(train_data_directory)\n",
    "for i in range(len(images)):\n",
    "    images[i] = images[i]/255\n",
    "c = list(zip(images, labels))\n",
    "\n",
    "random.shuffle(c)\n",
    "\n",
    "images, labels = zip(*c)\n",
    "\n",
    "labels= [int(i) for i in labels]"
   ]
  },
  {
   "cell_type": "code",
   "execution_count": 3,
   "metadata": {},
   "outputs": [],
   "source": [
    "images_train = np.array(images[0:int(0.833333*len(images) + 1)])\n",
    "labels_train = np.array(labels[0:int(0.833333*len(labels) + 1)])"
   ]
  },
  {
   "cell_type": "code",
   "execution_count": 4,
   "metadata": {},
   "outputs": [],
   "source": [
    "images_test = np.array(images[int(0.833333*len(images) + 1):])\n",
    "labels_test = np.array(labels[int(0.833333*len(labels) + 1):])"
   ]
  },
  {
   "cell_type": "code",
   "execution_count": 5,
   "metadata": {},
   "outputs": [],
   "source": [
    "class_names = ['button', 'checkbox', 'radiobutton', 'slider', 'spinner', 'textbox', 'empty']"
   ]
  },
  {
   "cell_type": "code",
   "execution_count": 6,
   "metadata": {
    "scrolled": true
   },
   "outputs": [
    {
     "data": {
      "image/png": "[encoded data removed]",
      "text/plain": [
       "<Figure size 720x720 with 25 Axes>"
      ]
     },
     "metadata": {},
     "output_type": "display_data"
    },
    {
     "name": "stdout",
     "output_type": "stream",
     "text": [
      "(35000, 100, 150)\n",
      "35000\n"
     ]
    }
   ],
   "source": [
    "plt.figure(figsize=(10,10))\n",
    "for i in range(25):\n",
    "    plt.subplot(5,5,i+1)\n",
    "    plt.xticks([])\n",
    "    plt.yticks([])\n",
    "    plt.grid(False)\n",
    "    plt.imshow(images_train[i], cmap=plt.cm.binary)\n",
    "    plt.xlabel(class_names[labels_train[i]])\n",
    "plt.show()\n",
    "print(images_train.shape)\n",
    "print(len(labels_train))"
   ]
  },
  {
   "cell_type": "code",
   "execution_count": 7,
   "metadata": {},
   "outputs": [],
   "source": [
    "model = keras.Sequential([\n",
    "    keras.layers.Conv2D(input_shape=(100, 150, 1), kernel_size = (5, 5), filters = 32, activation='relu'),\n",
    "    keras.layers.MaxPool2D(pool_size = (2, 2)),\n",
    "    keras.layers.Conv2D(kernel_size = (5, 5), filters = 64, activation='relu'),\n",
    "    keras.layers.MaxPool2D(pool_size = (2, 2)),\n",
    "    keras.layers.Conv2D(kernel_size = (5, 5), filters = 128, activation='relu'),\n",
    "    keras.layers.MaxPool2D(pool_size = (2, 2)),\n",
    "    keras.layers.Conv2D(kernel_size = (5, 5), filters = 256, activation='relu'),\n",
    "    keras.layers.MaxPool2D(pool_size = (2, 2)),\n",
    "    #keras.layers.Conv2D(kernel_size = (3, 3), filters = 512, activation='relu'),\n",
    "    #keras.layers.MaxPool2D(pool_size = (2, 2)),\n",
    "    keras.layers.Flatten(),\n",
    "    keras.layers.Dense(4096, activation='relu'),\n",
    "    keras.layers.Dense(1024, activation='relu'),\n",
    "    keras.layers.Dense(256, activation='relu'),\n",
    "    keras.layers.Dense(64, activation='relu'),\n",
    "    keras.layers.Dense(7, activation='softmax')\n",
    "])"
   ]
  },
  {
   "cell_type": "code",
   "execution_count": 8,
   "metadata": {},
   "outputs": [],
   "source": [
    "#model = keras.Sequential()\n",
    "#model.add(keras.layers.Conv2D(input_shape=(28, 28, 1), kernel_size = 5, filters = 32, activation='relu'))\n",
    "#print(model.output_shape)\n",
    "#model.add(keras.layers.MaxPool2D(pool_size = (2, 2)))\n",
    "#print(model.output_shape)\n",
    "#model.add(keras.layers.Conv2D(kernel_size = (5, 5), filters = 64, activation='relu'))\n",
    "#print(model.output_shape)\n",
    "#model.add(keras.layers.MaxPool2D(pool_size = (2, 2)))\n",
    "#print(model.output_shape)\n",
    "#model.add(keras.layers.Flatten())\n",
    "#print(model.output_shape)\n",
    "#model.add(keras.layers.Dense(1984, activation='relu'))\n",
    "#print(model.output_shape)\n",
    "#model.add(keras.layers.Dense(496, activation='relu'))\n",
    "#print(model.output_shape)\n",
    "#model.add(keras.layers.Dense(62, activation='softmax'))"
   ]
  },
  {
   "cell_type": "code",
   "execution_count": 9,
   "metadata": {},
   "outputs": [],
   "source": [
    "model.compile(optimizer='adam',\n",
    "              loss='sparse_categorical_crossentropy',\n",
    "              metrics=['accuracy'])"
   ]
  },
  {
   "cell_type": "code",
   "execution_count": 10,
   "metadata": {},
   "outputs": [],
   "source": [
    "images_train = images_train.reshape(-1, 100, 150, 1)\n",
    "images_test = images_test.reshape(-1, 100, 150, 1)"
   ]
  },
  {
   "cell_type": "code",
   "execution_count": 11,
   "metadata": {},
   "outputs": [
    {
     "name": "stderr",
     "output_type": "stream",
     "text": [
      "WARNING: Logging before flag parsing goes to stderr.\n",
      "W0711 01:43:42.531788 140319054694208 deprecation.py:323] From /home/nikita/.local/lib/python3.7/site-packages/tensorflow/python/ops/math_grad.py:1250: add_dispatch_support.<locals>.wrapper (from tensorflow.python.ops.array_ops) is deprecated and will be removed in a future version.\n",
      "Instructions for updating:\n",
      "Use tf.where in 2.0, which has the same broadcast rule as np.where\n"
     ]
    },
    {
     "name": "stdout",
     "output_type": "stream",
     "text": [
      "Train on 28000 samples, validate on 7000 samples\n",
      "Epoch 1/30\n",
      "28000/28000 [==============================] - 508s 18ms/sample - loss: 0.7310 - accuracy: 0.6876 - val_loss: 0.2088 - val_accuracy: 0.9199\n",
      "Epoch 2/30\n",
      "28000/28000 [==============================] - 497s 18ms/sample - loss: 0.1463 - accuracy: 0.9504 - val_loss: 0.1009 - val_accuracy: 0.9700\n",
      "Epoch 3/30\n",
      "28000/28000 [==============================] - 455s 16ms/sample - loss: 0.1014 - accuracy: 0.9689 - val_loss: 0.0951 - val_accuracy: 0.9660\n",
      "Epoch 4/30\n",
      "28000/28000 [==============================] - 457s 16ms/sample - loss: 0.0498 - accuracy: 0.9835 - val_loss: 0.0366 - val_accuracy: 0.9881\n",
      "Epoch 5/30\n",
      "28000/28000 [==============================] - 436s 16ms/sample - loss: 0.0723 - accuracy: 0.9792 - val_loss: 0.0690 - val_accuracy: 0.9817\n",
      "Epoch 6/30\n",
      "28000/28000 [==============================] - 434s 15ms/sample - loss: 0.0400 - accuracy: 0.9886 - val_loss: 0.0289 - val_accuracy: 0.9944\n",
      "Epoch 7/30\n",
      "28000/28000 [==============================] - 434s 15ms/sample - loss: 0.0505 - accuracy: 0.9853 - val_loss: 0.0162 - val_accuracy: 0.9951\n",
      "Epoch 8/30\n",
      "28000/28000 [==============================] - 434s 15ms/sample - loss: 0.0299 - accuracy: 0.9915 - val_loss: 0.0090 - val_accuracy: 0.9977\n",
      "Epoch 9/30\n",
      "28000/28000 [==============================] - 437s 16ms/sample - loss: 0.0635 - accuracy: 0.9834 - val_loss: 0.0918 - val_accuracy: 0.9724\n",
      "Epoch 10/30\n",
      "28000/28000 [==============================] - 428s 15ms/sample - loss: 0.0354 - accuracy: 0.9902 - val_loss: 0.0414 - val_accuracy: 0.9914\n",
      "Epoch 11/30\n",
      "28000/28000 [==============================] - 433s 15ms/sample - loss: 0.0161 - accuracy: 0.9956 - val_loss: 0.0098 - val_accuracy: 0.9969\n",
      "Epoch 12/30\n",
      "28000/28000 [==============================] - 436s 16ms/sample - loss: 0.0291 - accuracy: 0.9923 - val_loss: 0.0181 - val_accuracy: 0.9941\n",
      "Epoch 13/30\n",
      "28000/28000 [==============================] - 435s 16ms/sample - loss: 0.0233 - accuracy: 0.9935 - val_loss: 0.0084 - val_accuracy: 0.9984\n",
      "Epoch 14/30\n",
      "28000/28000 [==============================] - 425s 15ms/sample - loss: 0.0276 - accuracy: 0.9921 - val_loss: 0.0437 - val_accuracy: 0.9874\n",
      "Epoch 15/30\n",
      "28000/28000 [==============================] - 425s 15ms/sample - loss: 0.0418 - accuracy: 0.9896 - val_loss: 0.0175 - val_accuracy: 0.9971\n",
      "Epoch 16/30\n",
      "28000/28000 [==============================] - 425s 15ms/sample - loss: 0.0321 - accuracy: 0.9931 - val_loss: 0.0072 - val_accuracy: 0.9986\n",
      "Epoch 17/30\n",
      "28000/28000 [==============================] - 432s 15ms/sample - loss: 0.0118 - accuracy: 0.9972 - val_loss: 0.0088 - val_accuracy: 0.9977\n",
      "Epoch 18/30\n",
      "28000/28000 [==============================] - 420s 15ms/sample - loss: 0.0556 - accuracy: 0.9887 - val_loss: 0.1111 - val_accuracy: 0.9743\n",
      "Epoch 19/30\n",
      "28000/28000 [==============================] - 416s 15ms/sample - loss: 0.0129 - accuracy: 0.9964 - val_loss: 0.0155 - val_accuracy: 0.9959\n",
      "Epoch 20/30\n",
      "28000/28000 [==============================] - 408s 15ms/sample - loss: 0.0255 - accuracy: 0.9939 - val_loss: 0.0135 - val_accuracy: 0.9961\n",
      "Epoch 21/30\n",
      "28000/28000 [==============================] - 414s 15ms/sample - loss: 0.0111 - accuracy: 0.9973 - val_loss: 0.0115 - val_accuracy: 0.9983\n",
      "Epoch 22/30\n",
      "28000/28000 [==============================] - 429s 15ms/sample - loss: 0.0173 - accuracy: 0.9959 - val_loss: 0.0275 - val_accuracy: 0.9951\n",
      "Epoch 23/30\n",
      "28000/28000 [==============================] - 428s 15ms/sample - loss: 0.0488 - accuracy: 0.9903 - val_loss: 0.0359 - val_accuracy: 0.9927\n",
      "Epoch 24/30\n",
      "28000/28000 [==============================] - 439s 16ms/sample - loss: 0.0088 - accuracy: 0.9983 - val_loss: 0.0192 - val_accuracy: 0.9934\n",
      "Epoch 25/30\n",
      "28000/28000 [==============================] - 414s 15ms/sample - loss: 0.0235 - accuracy: 0.9945 - val_loss: 0.0181 - val_accuracy: 0.9961\n",
      "Epoch 26/30\n",
      "28000/28000 [==============================] - 435s 16ms/sample - loss: 0.0453 - accuracy: 0.9886 - val_loss: 0.0136 - val_accuracy: 0.9977\n",
      "Epoch 27/30\n",
      "28000/28000 [==============================] - 420s 15ms/sample - loss: 0.0131 - accuracy: 0.9965 - val_loss: 8.2563e-04 - val_accuracy: 0.9999\n",
      "Epoch 28/30\n",
      "28000/28000 [==============================] - 427s 15ms/sample - loss: 0.0143 - accuracy: 0.9968 - val_loss: 0.0108 - val_accuracy: 0.9981\n",
      "Epoch 29/30\n",
      "28000/28000 [==============================] - 432s 15ms/sample - loss: 0.0509 - accuracy: 0.9890 - val_loss: 0.0101 - val_accuracy: 0.9983\n",
      "Epoch 30/30\n",
      "28000/28000 [==============================] - 440s 16ms/sample - loss: 0.0149 - accuracy: 0.9974 - val_loss: 0.1511 - val_accuracy: 0.9836\n"
     ]
    }
   ],
   "source": [
    "history = model.fit(images_train, labels_train, epochs=30, validation_split=0.2)"
   ]
  },
  {
   "cell_type": "code",
   "execution_count": 12,
   "metadata": {},
   "outputs": [
    {
     "name": "stdout",
     "output_type": "stream",
     "text": [
      "dict_keys(['loss', 'accuracy', 'val_loss', 'val_accuracy'])\n"
     ]
    },
    {
     "data": {
      "image/png": "[encoded data removed]",
      "text/plain": [
       "<Figure size 432x288 with 1 Axes>"
      ]
     },
     "metadata": {
      "needs_background": "light"
     },
     "output_type": "display_data"
    }
   ],
   "source": [
    "print(history.history.keys())\n",
    "plt.plot(history.history['accuracy'])\n",
    "plt.plot(history.history['val_accuracy'])\n",
    "plt.title('model accuracy')\n",
    "plt.ylabel('accuracy')\n",
    "plt.xlabel('epoch')\n",
    "plt.legend(['train', 'test'], loc='upper left')\n",
    "plt.show()"
   ]
  },
  {
   "cell_type": "code",
   "execution_count": 13,
   "metadata": {},
   "outputs": [
    {
     "name": "stdout",
     "output_type": "stream",
     "text": [
      "7000/7000 [==============================] - 22s 3ms/sample - loss: 0.1495 - accuracy: 0.9837\n",
      "\n",
      "Точность на проверочных данных: 0.9837143\n"
     ]
    }
   ],
   "source": [
    "test_loss, test_acc = model.evaluate(images_test, labels_test)\n",
    "\n",
    "print('\\nТочность на проверочных данных:', test_acc)"
   ]
  },
  {
   "cell_type": "code",
   "execution_count": 14,
   "metadata": {},
   "outputs": [],
   "source": [
    "model.save_weights('./checkpoints/my_checkpoint')\n",
    "model.save('my_model.h5')"
   ]
  },
  {
   "cell_type": "code",
   "execution_count": 15,
   "metadata": {},
   "outputs": [],
   "source": [
    "def plot_image(i, predictions_array, true_label, img):\n",
    "  predictions_array, true_label, img = predictions_array[i], true_label[i], img[i].reshape(100,150)\n",
    "  plt.grid(False)\n",
    "  plt.xticks([])\n",
    "  plt.yticks([])\n",
    "\n",
    "  plt.imshow(img, cmap=plt.cm.binary)\n",
    "\n",
    "  predicted_label = np.argmax(predictions_array)\n",
    "  if predicted_label == true_label:\n",
    "    color = 'blue'\n",
    "  else:\n",
    "    color = 'red'\n",
    "\n",
    "  plt.xlabel(\"{} {:2.0f}% ({})\".format(class_names[predicted_label],\n",
    "                                100*np.max(predictions_array),\n",
    "                                class_names[true_label]),\n",
    "                                color=color)\n",
    "\n",
    "def plot_value_array(i, predictions_array, true_label):\n",
    "  predictions_array, true_label = predictions_array[i], true_label[i]\n",
    "  plt.grid(False)\n",
    "  plt.xticks([])\n",
    "  plt.yticks([])\n",
    "  thisplot = plt.bar(range(7), predictions_array, color=\"#777777\")\n",
    "  plt.ylim([0, 1])\n",
    "  predicted_label = np.argmax(predictions_array)\n",
    "\n",
    "  thisplot[predicted_label].set_color('red')\n",
    "  thisplot[true_label].set_color('blue')"
   ]
  },
  {
   "cell_type": "code",
   "execution_count": 16,
   "metadata": {},
   "outputs": [],
   "source": [
    "predictions = model.predict(images_test)"
   ]
  },
  {
   "cell_type": "code",
   "execution_count": 17,
   "metadata": {},
   "outputs": [],
   "source": [
    "#images_test_out = [i.reshape(28,28) for i in images_test]"
   ]
  },
  {
   "cell_type": "code",
   "execution_count": 18,
   "metadata": {},
   "outputs": [
    {
     "data": {
      "image/png": "[encoded data removed]",
      "text/plain": [
       "<Figure size 432x216 with 2 Axes>"
      ]
     },
     "metadata": {},
     "output_type": "display_data"
    }
   ],
   "source": [
    "i = random.randint(0, len(images_test))\n",
    "plt.figure(figsize=(6,3))\n",
    "plt.subplot(1,2,1)\n",
    "plot_image(i, predictions, labels_test, images_test)\n",
    "plt.subplot(1,2,2)\n",
    "plot_value_array(i, predictions,  labels_test)\n",
    "plt.show()"
   ]
  },
  {
   "cell_type": "code",
   "execution_count": 19,
   "metadata": {},
   "outputs": [
    {
     "data": {
      "image/png": "[encoded data removed]",
      "text/plain": [
       "<Figure size 864x720 with 30 Axes>"
      ]
     },
     "metadata": {},
     "output_type": "display_data"
    }
   ],
   "source": [
    "num_rows = 5\n",
    "num_cols = 3\n",
    "num_images = num_rows*num_cols\n",
    "j = random.randint(0, len(images_test - num_images))\n",
    "plt.figure(figsize=(2*2*num_cols, 2*num_rows))\n",
    "for i in range(num_images):\n",
    "  plt.subplot(num_rows, 2*num_cols, 2*i+1)\n",
    "  plot_image(i+j, predictions, labels_test, images_test)\n",
    "  plt.subplot(num_rows, 2*num_cols, 2*i+2)\n",
    "  plot_value_array(i+j, predictions, labels_test)\n",
    "plt.show()"
   ]
  },
  {
   "cell_type": "code",
   "execution_count": null,
   "metadata": {},
   "outputs": [],
   "source": []
  }
 ],
 "metadata": {
  "kernelspec": {
   "display_name": "Python 3",
   "language": "python",
   "name": "python3"
  },
  "language_info": {
   "codemirror_mode": {
    "name": "ipython",
    "version": 3
   },
   "file_extension": ".py",
   "mimetype": "text/x-python",
   "name": "python",
   "nbconvert_exporter": "python",
   "pygments_lexer": "ipython3",
   "version": "3.7.3"
  }
 },
 "nbformat": 4,
 "nbformat_minor": 2
}
