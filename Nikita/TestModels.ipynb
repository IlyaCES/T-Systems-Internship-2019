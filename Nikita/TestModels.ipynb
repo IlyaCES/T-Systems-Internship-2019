{
 "cells": [
  {
   "cell_type": "code",
   "execution_count": 1,
   "metadata": {},
   "outputs": [],
   "source": [
    "from __future__ import absolute_import, division, print_function, unicode_literals\n",
    "\n",
    "# TensorFlow и tf.keras\n",
    "import tensorflow as tf\n",
    "from tensorflow import keras\n",
    "\n",
    "# Вспомогательные библиотеки\n",
    "import numpy as np\n",
    "\n",
    "import os\n",
    "import skimage\n",
    "import random"
   ]
  },
  {
   "cell_type": "code",
   "execution_count": 2,
   "metadata": {},
   "outputs": [],
   "source": [
    "def load_data(data_directory):\n",
    "    directories = [d for d in os.listdir(data_directory) \n",
    "                   if os.path.isdir(os.path.join(data_directory, d))]\n",
    "    labels = []\n",
    "    images = []\n",
    "    for d in directories:\n",
    "        label_directory = os.path.join(data_directory, d)\n",
    "        file_names = [os.path.join(label_directory, f) \n",
    "                      for f in os.listdir(label_directory) \n",
    "                      if f.endswith(\".png\")]\n",
    "        for f in file_names:\n",
    "            images.append(skimage.data.imread(f))\n",
    "            labels.append(d)\n",
    "    for i in range(len(images)):\n",
    "        images[i] = images[i]/255\n",
    "    c = list(zip(images, labels))\n",
    "    labels= [int(i) for i in labels]\n",
    "    \n",
    "    images_train = np.array(images)\n",
    "    labels_train = np.array(labels)\n",
    "    \n",
    "    return images_train, labels_train\n",
    "\n",
    "ROOT_PATH = \"D:/T-Systems/\"\n",
    "train_data_directory = os.path.join(ROOT_PATH, \"TestGray\")"
   ]
  },
  {
   "cell_type": "code",
   "execution_count": 3,
   "metadata": {},
   "outputs": [],
   "source": [
    "class_names = ['button', 'checkbox', 'radiobutton', 'slider', 'spinner', 'textfield']\n",
    "\n",
    "images_test_all = [None]*6\n",
    "labels_test_all = [None]*6\n",
    "images_test_all[0], labels_test_all[0] = load_data(os.path.join(ROOT_PATH, \"TestGray/button\"))\n",
    "images_test_all[1], labels_test_all[1] = load_data(os.path.join(ROOT_PATH, \"TestGray/checkbox\"))\n",
    "images_test_all[2], labels_test_all[2] = load_data(os.path.join(ROOT_PATH, \"TestGray/radiobutton\"))\n",
    "images_test_all[3], labels_test_all[3] = load_data(os.path.join(ROOT_PATH, \"TestGray/slider\"))\n",
    "images_test_all[4], labels_test_all[4] = load_data(os.path.join(ROOT_PATH, \"TestGray/spinner\"))\n",
    "images_test_all[5], labels_test_all[5] = load_data(os.path.join(ROOT_PATH, \"TestGray/textfield\"))"
   ]
  },
  {
   "cell_type": "code",
   "execution_count": 4,
   "metadata": {},
   "outputs": [
    {
     "name": "stderr",
     "output_type": "stream",
     "text": [
      "WARNING: Logging before flag parsing goes to stderr.\n",
      "W0714 19:32:47.457715 10752 deprecation.py:323] From c:\\users\\nikita\\appdata\\local\\programs\\python\\python37\\lib\\site-packages\\tensorflow\\python\\ops\\math_grad.py:1250: add_dispatch_support.<locals>.wrapper (from tensorflow.python.ops.array_ops) is deprecated and will be removed in a future version.\n",
      "Instructions for updating:\n",
      "Use tf.where in 2.0, which has the same broadcast rule as np.where\n"
     ]
    },
    {
     "name": "stdout",
     "output_type": "stream",
     "text": [
      "10000/10000 [==============================] - 9s 940us/sample - loss: 0.0316 - accuracy: 0.9940\n",
      "Result: Epoch-66-1.00.h5 button 0.994\n",
      "10000/10000 [==============================] - 7s 670us/sample - loss: 1.6327e-06 - accuracy: 1.0000\n",
      "Result: Epoch-66-1.00.h5 checkbox 1.0\n",
      "10000/10000 [==============================] - 7s 668us/sample - loss: 8.6657e-05 - accuracy: 1.0000 - loss: 2.628 - ETA: 0s - loss:\n",
      "Result: Epoch-66-1.00.h5 radiobutton 1.0\n",
      "10000/10000 [==============================] - 7s 684us/sample - loss: 7.6721e-04 - accuracy: 0.9999\n",
      "Result: Epoch-66-1.00.h5 slider 0.9999\n",
      "10000/10000 [==============================] - 7s 677us/sample - loss: 1.9223e-04 - accuracy: 0.9999\n",
      "Result: Epoch-66-1.00.h5 spinner 0.9999\n",
      "10000/10000 [==============================] - 7s 668us/sample - loss: 0.0040 - accuracy: 0.9990\n",
      "Result: Epoch-66-1.00.h5 textfield 0.999\n",
      "10000/10000 [==============================] - 7s 671us/sample - loss: 0.0340 - accuracy: 0.9937 - loss: 0.0323 - accuracy: 0.99 - ETA: 3s - loss: 0.033 - ETA: 1s - loss: 0.0309 - accuracy: 0.99 - ETA: 1s - loss: 0.0305 -  - ETA: 0s - loss:\n",
      "Result: Epoch-67-1.00.h5 button 0.9937\n",
      "10000/10000 [==============================] - 7s 670us/sample - loss: 1.1613e-06 - accuracy: 1.0000 - loss: 1.734 - ETA: 3s - loss: 1.3193e-06 - accuracy:  - ETA: 3s - loss: 1.2 - ETA: 2s - loss: 1.1654e-06 - ac - ETA: 1s - loss: 1.1128e-0 - ETA: 1s\n",
      "Result: Epoch-67-1.00.h5 checkbox 1.0\n",
      "10000/10000 [==============================] - 7s 668us/sample - loss: 1.1895e-04 - accuracy: 0.9999 - - ETA: 1s - - ETA: 0s - loss: 3.0251e\n",
      "Result: Epoch-67-1.00.h5 radiobutton 0.9999\n",
      "10000/10000 [==============================] - 7s 669us/sample - loss: 6.1951e-04 - accuracy: 0.9999 - loss: 8.9186e-04 - accu - ETA: 1s - loss: 8.2359e-04 - accu - ETA: 1s - loss: 7.650 - ETA: 0s - loss: 6.6983e-04 - \n",
      "Result: Epoch-67-1.00.h5 slider 0.9999\n",
      "10000/10000 [==============================] - 7s 669us/sample - loss: 2.3921e-04 - accuracy: 0.9999 - loss: 4.8144e-07 - accura - ETA: 5s - loss: 0.0010  - ETA - ETA: 0s - loss: 2.4589e-04 - accuracy: \n",
      "Result: Epoch-67-1.00.h5 spinner 0.9999\n",
      "10000/10000 [==============================] - 7s 670us/sample - loss: 0.0045 - accuracy: 0.9987 ETA: 2s - loss: 0.0029 - accuracy - ETA: 0s - l\n",
      "Result: Epoch-67-1.00.h5 textfield 0.9987\n",
      "10000/10000 [==============================] - 7s 675us/sample - loss: 0.0345 - accuracy: 0.9937\n",
      "Result: Epoch-68-1.00.h5 button 0.9937\n",
      "10000/10000 [==============================] - 7s 669us/sample - loss: 1.0151e-06 - accuracy: 1.0000 - loss: 1.0225e-06 - accuracy: 1.\n",
      "Result: Epoch-68-1.00.h5 checkbox 1.0\n",
      "10000/10000 [==============================] - ETA: 0s - loss: 1.5887e-04 - accuracy: 0.9999 ETA: 6s - loss: 5.9 - ETA: 3s - l - ETA: 1s - 7s 674us/sample - loss: 1.5760e-04 - accuracy: 0.9999\n",
      "Result: Epoch-68-1.00.h5 radiobutton 0.9999\n",
      "10000/10000 [==============================] - ETA: 0s - loss: 5.1289e-04 - accuracy: 0.99 - 7s 676us/sample - loss: 5.0879e-04 - accuracy: 0.9999\n",
      "Result: Epoch-68-1.00.h5 slider 0.9999\n",
      "10000/10000 [==============================] - 7s 669us/sample - loss: 2.8392e-04 - accuracy: 0.9999 - - ETA: 3s - loss: 5.7790e-04  - ETA\n",
      "Result: Epoch-68-1.00.h5 spinner 0.9999\n",
      "10000/10000 [==============================] - 7s 670us/sample - loss: 0.0050 - accuracy: 0.9987\n",
      "Result: Epoch-68-1.00.h5 textfield 0.9987\n",
      "10000/10000 [==============================] - 7s 674us/sample - loss: 0.0364 - accuracy: 0.9938 - loss: 0.0 - E - ETA: 1s -\n",
      "Result: Epoch-69-1.00.h5 button 0.9938\n",
      "10000/10000 [==============================] - 7s 664us/sample - loss: 8.5161e-07 - accuracy: 1.0000 - ETA: 1s - loss: 8.5059e-07 - accuracy:  - ETA: 1s - loss: 8.872 - ETA: 0s - loss: 8.5689e-07 - ac\n",
      "Result: Epoch-69-1.00.h5 checkbox 1.0\n",
      "10000/10000 [==============================] - 7s 667us/sample - loss: 2.1314e-04 - accuracy: 0.9999 - loss: 3.7229e\n",
      "Result: Epoch-69-1.00.h5 radiobutton 0.9999\n",
      "10000/10000 [==============================] - 7s 667us/sample - loss: 3.7573e-04 - accuracy: 0.9999 - l\n",
      "Result: Epoch-69-1.00.h5 slider 0.9999\n",
      "10000/10000 [==============================] - 7s 672us/sample - loss: 3.2342e-04 - accuracy: 0.9999 - loss: 3.5688e-0\n",
      "Result: Epoch-69-1.00.h5 spinner 0.9999\n",
      "10000/10000 [==============================] - 7s 676us/sample - loss: 0.0053 - accuracy: 0.9987 - loss: 0.0053 - accuracy: 0.99\n",
      "Result: Epoch-69-1.00.h5 textfield 0.9987\n",
      "10000/10000 [==============================] - 7s 677us/sample - loss: 0.0364 - accuracy: 0.9940 - loss: 0.031 - ETA: 1s - loss: - ETA: 0s - loss: 0.0\n",
      "Result: Epoch-70-1.00.h5 button 0.994\n",
      "10000/10000 [==============================] - 7s 665us/sample - loss: 8.1703e-07 - accuracy: 1.00001s - loss: 8.1305e - ETA: 0s - loss: 8\n",
      "Result: Epoch-70-1.00.h5 checkbox 1.0\n",
      "10000/10000 [==============================] - 7s 665us/sample - loss: 2.7342e-04 - accuracy: 0.9999 - loss: 1.0938e-06 -  - ETA: 4s - loss: 9.6253e-07 - accu - ETA: \n",
      "Result: Epoch-70-1.00.h5 radiobutton 0.9999\n",
      "10000/10000 [==============================] - 7s 668us/sample - loss: 2.4811e-04 - accuracy: 0.9999 - loss: 2.7391e-0\n",
      "Result: Epoch-70-1.00.h5 slider 0.9999\n",
      "10000/10000 [==============================] - 7s 670us/sample - loss: 3.6017e-04 - accuracy: 0.9999: 0s - loss:\n",
      "Result: Epoch-70-1.00.h5 spinner 0.9999\n",
      "10000/10000 [==============================] - 7s 672us/sample - loss: 0.0055 - accuracy: 0.9988 - - - ETA: 1s -\n",
      "Result: Epoch-70-1.00.h5 textfield 0.9988\n"
     ]
    }
   ],
   "source": [
    "file_names = os.listdir(\"D:/T-Systems/Model03_save\")\n",
    "file_names = filter(lambda x: x.endswith('.h5'), file_names)\n",
    "\n",
    "i=1\n",
    "\n",
    "for f in file_names:\n",
    "    if i >= 66:\n",
    "        new_model = keras.models.load_model(\"D:/T-Systems/Model03_save/\" + f)\n",
    "\n",
    "        for name in range(len(class_names)):\n",
    "\n",
    "            images_test = images_test_all[name]\n",
    "\n",
    "            labels_test = labels_test_all[name]\n",
    "\n",
    "            images_test = images_test.reshape(-1, 100, 150, 1)\n",
    "\n",
    "            loss, acc = new_model.evaluate(images_test, labels_test)\n",
    "\n",
    "            print(\"Result: \" + str(f) + \" \" + class_names[name] + \" \" + str(acc))\n",
    "    i=i+1\n"
   ]
  },
  {
   "cell_type": "code",
   "execution_count": null,
   "metadata": {},
   "outputs": [],
   "source": []
  }
 ],
 "metadata": {
  "kernelspec": {
   "display_name": "Python 3",
   "language": "python",
   "name": "python3"
  },
  "language_info": {
   "codemirror_mode": {
    "name": "ipython",
    "version": 3
   },
   "file_extension": ".py",
   "mimetype": "text/x-python",
   "name": "python",
   "nbconvert_exporter": "python",
   "pygments_lexer": "ipython3",
   "version": "3.7.4"
  }
 },
 "nbformat": 4,
 "nbformat_minor": 2
}
